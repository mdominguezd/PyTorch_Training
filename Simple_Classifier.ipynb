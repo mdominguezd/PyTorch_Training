{
  "cells": [
    {
      "cell_type": "markdown",
      "source": [
        "# Simple classifier training with PyTorch"
      ],
      "metadata": {
        "id": "IP66ZyM1sA4b"
      },
      "id": "IP66ZyM1sA4b"
    },
    {
      "cell_type": "code",
      "source": [
        "import torch\n",
        "import torchvision\n",
        "import torchvision.transforms as transforms\n",
        "\n",
        "# PyTorch TensorBoard support\n",
        "from torch.utils.tensorboard import SummaryWriter\n",
        "from datetime import datetime"
      ],
      "metadata": {
        "id": "xkrxIXWTr1wu"
      },
      "id": "xkrxIXWTr1wu",
      "execution_count": null,
      "outputs": []
    },
    {
      "cell_type": "code",
      "execution_count": 4,
      "id": "6b724886-a1d2-4e80-acd8-239e326b055a",
      "metadata": {
        "id": "6b724886-a1d2-4e80-acd8-239e326b055a",
        "outputId": "ded06eed-8f5f-46c2-8576-9d50b6983a4d",
        "colab": {
          "base_uri": "https://localhost:8080/"
        }
      },
      "outputs": [
        {
          "output_type": "stream",
          "name": "stdout",
          "text": [
            "Downloading http://fashion-mnist.s3-website.eu-central-1.amazonaws.com/train-images-idx3-ubyte.gz\n",
            "Downloading http://fashion-mnist.s3-website.eu-central-1.amazonaws.com/train-images-idx3-ubyte.gz to ./data/FashionMNIST/raw/train-images-idx3-ubyte.gz\n"
          ]
        },
        {
          "output_type": "stream",
          "name": "stderr",
          "text": [
            "100%|██████████| 26421880/26421880 [00:01<00:00, 15843619.50it/s]\n"
          ]
        },
        {
          "output_type": "stream",
          "name": "stdout",
          "text": [
            "Extracting ./data/FashionMNIST/raw/train-images-idx3-ubyte.gz to ./data/FashionMNIST/raw\n",
            "\n",
            "Downloading http://fashion-mnist.s3-website.eu-central-1.amazonaws.com/train-labels-idx1-ubyte.gz\n",
            "Downloading http://fashion-mnist.s3-website.eu-central-1.amazonaws.com/train-labels-idx1-ubyte.gz to ./data/FashionMNIST/raw/train-labels-idx1-ubyte.gz\n"
          ]
        },
        {
          "output_type": "stream",
          "name": "stderr",
          "text": [
            "100%|██████████| 29515/29515 [00:00<00:00, 300806.68it/s]\n"
          ]
        },
        {
          "output_type": "stream",
          "name": "stdout",
          "text": [
            "Extracting ./data/FashionMNIST/raw/train-labels-idx1-ubyte.gz to ./data/FashionMNIST/raw\n",
            "\n",
            "Downloading http://fashion-mnist.s3-website.eu-central-1.amazonaws.com/t10k-images-idx3-ubyte.gz\n",
            "Downloading http://fashion-mnist.s3-website.eu-central-1.amazonaws.com/t10k-images-idx3-ubyte.gz to ./data/FashionMNIST/raw/t10k-images-idx3-ubyte.gz\n"
          ]
        },
        {
          "output_type": "stream",
          "name": "stderr",
          "text": [
            "100%|██████████| 4422102/4422102 [00:00<00:00, 4991642.34it/s]\n"
          ]
        },
        {
          "output_type": "stream",
          "name": "stdout",
          "text": [
            "Extracting ./data/FashionMNIST/raw/t10k-images-idx3-ubyte.gz to ./data/FashionMNIST/raw\n",
            "\n",
            "Downloading http://fashion-mnist.s3-website.eu-central-1.amazonaws.com/t10k-labels-idx1-ubyte.gz\n",
            "Downloading http://fashion-mnist.s3-website.eu-central-1.amazonaws.com/t10k-labels-idx1-ubyte.gz to ./data/FashionMNIST/raw/t10k-labels-idx1-ubyte.gz\n"
          ]
        },
        {
          "output_type": "stream",
          "name": "stderr",
          "text": [
            "100%|██████████| 5148/5148 [00:00<00:00, 10080428.10it/s]\n"
          ]
        },
        {
          "output_type": "stream",
          "name": "stdout",
          "text": [
            "Extracting ./data/FashionMNIST/raw/t10k-labels-idx1-ubyte.gz to ./data/FashionMNIST/raw\n",
            "\n",
            "Training set has 60000 instances\n",
            "Validation set has 10000 instances\n"
          ]
        }
      ],
      "source": [
        "transform = transforms.Compose(\n",
        "    [transforms.ToTensor(),\n",
        "    transforms.Normalize((0.5,), (0.5,))])\n",
        "\n",
        "# Create datasets for training & validation, download if necessary\n",
        "training_set = torchvision.datasets.FashionMNIST('./data', train=True, transform=transform, download=True)\n",
        "validation_set = torchvision.datasets.FashionMNIST('./data', train=False, transform=transform, download=True)\n",
        "\n",
        "# Create data loaders for our datasets; shuffle for training, not for validation\n",
        "training_loader = torch.utils.data.DataLoader(training_set, batch_size=4, shuffle=True)\n",
        "validation_loader = torch.utils.data.DataLoader(validation_set, batch_size=4, shuffle=False)\n",
        "\n",
        "# Class labels\n",
        "classes = ('T-shirt/top', 'Trouser', 'Pullover', 'Dress', 'Coat',\n",
        "        'Sandal', 'Shirt', 'Sneaker', 'Bag', 'Ankle Boot')\n",
        "\n",
        "# Report split sizes\n",
        "print('Training set has {} instances'.format(len(training_set)))\n",
        "print('Validation set has {} instances'.format(len(validation_set)))"
      ]
    },
    {
      "cell_type": "code",
      "execution_count": 5,
      "id": "5260c8b7-cb34-4eea-8a99-75dd0a821b75",
      "metadata": {
        "id": "5260c8b7-cb34-4eea-8a99-75dd0a821b75",
        "outputId": "cb29c66d-6e7b-4758-fa81-67d4fb5a76f3",
        "colab": {
          "base_uri": "https://localhost:8080/",
          "height": 212
        }
      },
      "outputs": [
        {
          "output_type": "stream",
          "name": "stdout",
          "text": [
            "Trouser  Ankle Boot  Coat  Coat\n"
          ]
        },
        {
          "output_type": "display_data",
          "data": {
            "text/plain": [
              "<Figure size 640x480 with 1 Axes>"
            ],
            "image/png": "[encoded data removed]"
          },
          "metadata": {}
        }
      ],
      "source": [
        "import matplotlib.pyplot as plt\n",
        "import numpy as np\n",
        "\n",
        "# Helper function for inline image display\n",
        "def matplotlib_imshow(img, one_channel=False):\n",
        "    if one_channel:\n",
        "        img = img.mean(dim=0)\n",
        "    img = img / 2 + 0.5     # unnormalize\n",
        "    npimg = img.numpy()\n",
        "    if one_channel:\n",
        "        plt.imshow(npimg, cmap=\"Greys\")\n",
        "    else:\n",
        "        plt.imshow(np.transpose(npimg, (1, 2, 0)))\n",
        "\n",
        "dataiter = iter(training_loader)\n",
        "images, labels = next(dataiter)\n",
        "\n",
        "# Create a grid from the images and show them\n",
        "img_grid = torchvision.utils.make_grid(images)\n",
        "matplotlib_imshow(img_grid, one_channel=True)\n",
        "print('  '.join(classes[labels[j]] for j in range(4)))"
      ]
    },
    {
      "cell_type": "code",
      "execution_count": 6,
      "id": "6dfd1417-3288-43a9-98d2-be4abf0582e0",
      "metadata": {
        "id": "6dfd1417-3288-43a9-98d2-be4abf0582e0"
      },
      "outputs": [],
      "source": [
        "import torch.nn as nn\n",
        "import torch.nn.functional as F\n",
        "\n",
        "# PyTorch models inherit from torch.nn.Module\n",
        "class GarmentClassifier(nn.Module):\n",
        "    def __init__(self):\n",
        "        super(GarmentClassifier, self).__init__()\n",
        "        self.conv1 = nn.Conv2d(1, 6, 5)\n",
        "        self.pool = nn.MaxPool2d(2, 2)\n",
        "        self.conv2 = nn.Conv2d(6, 16, 5)\n",
        "        self.fc1 = nn.Linear(16 * 4 * 4, 120)\n",
        "        self.fc2 = nn.Linear(120, 84)\n",
        "        self.fc3 = nn.Linear(84, 10)\n",
        "\n",
        "    def forward(self, x):\n",
        "        x = self.pool(F.relu(self.conv1(x)))\n",
        "        x = self.pool(F.relu(self.conv2(x)))\n",
        "        x = x.view(-1, 16 * 4 * 4)\n",
        "        x = F.relu(self.fc1(x))\n",
        "        x = F.relu(self.fc2(x))\n",
        "        x = self.fc3(x)\n",
        "        return x\n",
        "\n",
        "\n",
        "model = GarmentClassifier()"
      ]
    },
    {
      "cell_type": "code",
      "execution_count": 7,
      "id": "bb70e651-9c5c-4241-adb9-5d6a71909601",
      "metadata": {
        "id": "bb70e651-9c5c-4241-adb9-5d6a71909601",
        "outputId": "69d4687d-ea0c-4a52-f3a3-c06edc978c5a",
        "colab": {
          "base_uri": "https://localhost:8080/"
        }
      },
      "outputs": [
        {
          "output_type": "stream",
          "name": "stdout",
          "text": [
            "tensor([[0.9200, 0.4430, 0.2647, 0.7559, 0.7806, 0.7152, 0.2254, 0.0032, 0.4780,\n",
            "         0.8627],\n",
            "        [0.9238, 0.0362, 0.2996, 0.3347, 0.8672, 0.4761, 0.3653, 0.3604, 0.8737,\n",
            "         0.4046],\n",
            "        [0.7425, 0.3868, 0.2024, 0.2828, 0.8592, 0.2203, 0.2945, 0.6124, 0.6137,\n",
            "         0.9232],\n",
            "        [0.7588, 0.7046, 0.0785, 0.1967, 0.6874, 0.8287, 0.1397, 0.3480, 0.3937,\n",
            "         0.9549]])\n",
            "tensor([1, 5, 3, 7])\n",
            "Total loss for this batch: 2.4701645374298096\n"
          ]
        }
      ],
      "source": [
        "loss_fn = torch.nn.CrossEntropyLoss()\n",
        "\n",
        "# NB: Loss functions expect data in batches, so we're creating batches of 4\n",
        "# Represents the model's confidence in each of the 10 classes for a given input\n",
        "dummy_outputs = torch.rand(4, 10)\n",
        "# Represents the correct class among the 10 being tested\n",
        "dummy_labels = torch.tensor([1, 5, 3, 7])\n",
        "\n",
        "print(dummy_outputs)\n",
        "print(dummy_labels)\n",
        "\n",
        "loss = loss_fn(dummy_outputs, dummy_labels)\n",
        "print('Total loss for this batch: {}'.format(loss.item()))"
      ]
    },
    {
      "cell_type": "code",
      "execution_count": 8,
      "id": "e977000a-f2aa-4e3a-90e1-323193fa1020",
      "metadata": {
        "id": "e977000a-f2aa-4e3a-90e1-323193fa1020"
      },
      "outputs": [],
      "source": [
        "# Optimizers specified in the torch.optim package\n",
        "optimizer = torch.optim.SGD(model.parameters(), lr=0.001, momentum=0.9)"
      ]
    },
    {
      "cell_type": "code",
      "execution_count": 9,
      "id": "c15dec2e-6481-426c-b4eb-52de797dc67a",
      "metadata": {
        "id": "c15dec2e-6481-426c-b4eb-52de797dc67a"
      },
      "outputs": [],
      "source": [
        "def train_one_epoch(epoch_index, tb_writer):\n",
        "\n",
        "    running_loss = 0.\n",
        "    last_loss = 0.\n",
        "\n",
        "    # Here, we use enumerate(training_loader) instead of\n",
        "    # iter(training_loader) so that we can track the batch\n",
        "    # index and do some intra-epoch reporting\n",
        "    for i, data in enumerate(training_loader):\n",
        "        # Every data instance is an input + label pair\n",
        "        inputs, labels = data\n",
        "\n",
        "        # Zero your gradients for every batch!\n",
        "        optimizer.zero_grad()\n",
        "\n",
        "        # Make predictions for this batch\n",
        "        outputs = model(inputs)\n",
        "\n",
        "        # Compute the loss and its gradients\n",
        "        loss = loss_fn(outputs, labels)\n",
        "        loss.backward()\n",
        "\n",
        "        # Adjust learning weights\n",
        "        optimizer.step()\n",
        "\n",
        "        # Gather data and report\n",
        "        running_loss += loss.item()\n",
        "        if i % 1000 == 999:\n",
        "            last_loss = running_loss / 1000 # loss per batch\n",
        "            print('  batch {} loss: {}'.format(i + 1, last_loss))\n",
        "            tb_x = epoch_index * len(training_loader) + i + 1\n",
        "            tb_writer.add_scalar('Loss/train', last_loss, tb_x)\n",
        "            running_loss = 0.\n",
        "\n",
        "    return last_loss"
      ]
    },
    {
      "cell_type": "code",
      "execution_count": 10,
      "id": "5c564829-1377-4aa2-a0b3-d64f72ad645f",
      "metadata": {
        "id": "5c564829-1377-4aa2-a0b3-d64f72ad645f",
        "outputId": "0636dbe9-293c-4495-cea4-9673e67d5591",
        "colab": {
          "base_uri": "https://localhost:8080/"
        }
      },
      "outputs": [
        {
          "output_type": "stream",
          "name": "stdout",
          "text": [
            "EPOCH 1:\n",
            "  batch 1000 loss: 1.8019868609011174\n",
            "  batch 2000 loss: 0.8156253744438291\n",
            "  batch 3000 loss: 0.7175526417549699\n",
            "  batch 4000 loss: 0.6381538419160061\n",
            "  batch 5000 loss: 0.5901161139835603\n",
            "  batch 6000 loss: 0.5730999818528071\n",
            "  batch 7000 loss: 0.5232616623127833\n",
            "  batch 8000 loss: 0.5028738573959562\n",
            "  batch 9000 loss: 0.49766554301988797\n",
            "  batch 10000 loss: 0.49386580544593744\n",
            "  batch 11000 loss: 0.4581838376026135\n",
            "  batch 12000 loss: 0.43532456894626376\n",
            "  batch 13000 loss: 0.4133578732048627\n",
            "  batch 14000 loss: 0.4405760743670398\n",
            "  batch 15000 loss: 0.42439523001947965\n",
            "LOSS train 0.42439523001947965 valid 0.46092405915260315\n",
            "EPOCH 2:\n",
            "  batch 1000 loss: 0.3961926300723571\n",
            "  batch 2000 loss: 0.38374258364457636\n",
            "  batch 3000 loss: 0.38325761309615336\n",
            "  batch 4000 loss: 0.3639362080995925\n",
            "  batch 5000 loss: 0.38537108163611267\n",
            "  batch 6000 loss: 0.37306315242004345\n",
            "  batch 7000 loss: 0.3886990359680203\n",
            "  batch 8000 loss: 0.3236996955879149\n",
            "  batch 9000 loss: 0.37291433931863865\n",
            "  batch 10000 loss: 0.34105363069326994\n",
            "  batch 11000 loss: 0.37325704892154316\n",
            "  batch 12000 loss: 0.337742383824836\n",
            "  batch 13000 loss: 0.3394627173396875\n",
            "  batch 14000 loss: 0.34662567550176754\n",
            "  batch 15000 loss: 0.33779592441994466\n",
            "LOSS train 0.33779592441994466 valid 0.4016370475292206\n",
            "EPOCH 3:\n",
            "  batch 1000 loss: 0.3479597317469161\n",
            "  batch 2000 loss: 0.32159784775215666\n",
            "  batch 3000 loss: 0.33410378425173987\n",
            "  batch 4000 loss: 0.31758378744951915\n",
            "  batch 5000 loss: 0.32275639195942496\n",
            "  batch 6000 loss: 0.32375717743532734\n",
            "  batch 7000 loss: 0.3200108144111582\n",
            "  batch 8000 loss: 0.30357372624673373\n",
            "  batch 9000 loss: 0.3232975022575629\n",
            "  batch 10000 loss: 0.3064882787061506\n",
            "  batch 11000 loss: 0.29359527989284834\n",
            "  batch 12000 loss: 0.2961921125313602\n",
            "  batch 13000 loss: 0.32119410615967353\n",
            "  batch 14000 loss: 0.31398309362393045\n",
            "  batch 15000 loss: 0.32282338815313416\n",
            "LOSS train 0.32282338815313416 valid 0.3329654932022095\n",
            "EPOCH 4:\n",
            "  batch 1000 loss: 0.27226070881130365\n",
            "  batch 2000 loss: 0.29478728004325966\n",
            "  batch 3000 loss: 0.3020773568228942\n",
            "  batch 4000 loss: 0.2826726640067718\n",
            "  batch 5000 loss: 0.2918062202461006\n",
            "  batch 6000 loss: 0.2884859537795128\n",
            "  batch 7000 loss: 0.28650660985588183\n",
            "  batch 8000 loss: 0.2844109252402559\n",
            "  batch 9000 loss: 0.2892650153431532\n",
            "  batch 10000 loss: 0.2937605276809918\n",
            "  batch 11000 loss: 0.3059165562365961\n",
            "  batch 12000 loss: 0.305139213290513\n",
            "  batch 13000 loss: 0.28138323866521386\n",
            "  batch 14000 loss: 0.2964943048654386\n",
            "  batch 15000 loss: 0.28082216304732627\n",
            "LOSS train 0.28082216304732627 valid 0.33079394698143005\n",
            "EPOCH 5:\n",
            "  batch 1000 loss: 0.2788139901076502\n",
            "  batch 2000 loss: 0.26868940558463145\n",
            "  batch 3000 loss: 0.27200354606441396\n",
            "  batch 4000 loss: 0.2728873844922509\n",
            "  batch 5000 loss: 0.2792311793463523\n",
            "  batch 6000 loss: 0.2397762544490106\n",
            "  batch 7000 loss: 0.2825198916868412\n",
            "  batch 8000 loss: 0.28147818405631914\n",
            "  batch 9000 loss: 0.28601255903184936\n",
            "  batch 10000 loss: 0.28133374767992064\n",
            "  batch 11000 loss: 0.27700005993018567\n",
            "  batch 12000 loss: 0.25155539794002835\n",
            "  batch 13000 loss: 0.2761733783543641\n",
            "  batch 14000 loss: 0.26424769303629\n",
            "  batch 15000 loss: 0.2797117828285318\n",
            "LOSS train 0.2797117828285318 valid 0.29385894536972046\n"
          ]
        }
      ],
      "source": [
        "# Initializing in a separate cell so we can easily add more epochs to the same run\n",
        "timestamp = datetime.now().strftime('%Y%m%d_%H%M%S')\n",
        "writer = SummaryWriter('runs/fashion_trainer_{}'.format(timestamp))\n",
        "epoch_number = 0\n",
        "\n",
        "EPOCHS = 5\n",
        "\n",
        "best_vloss = 1_000_000.\n",
        "\n",
        "for epoch in range(EPOCHS):\n",
        "    print('EPOCH {}:'.format(epoch_number + 1))\n",
        "\n",
        "    # Make sure gradient tracking is on, and do a pass over the data\n",
        "    model.train(True)\n",
        "    avg_loss = train_one_epoch(epoch_number, writer)\n",
        "\n",
        "\n",
        "    running_vloss = 0.0\n",
        "    # Set the model to evaluation mode, disabling dropout and using population\n",
        "    # statistics for batch normalization.\n",
        "    model.eval()\n",
        "\n",
        "    # Disable gradient computation and reduce memory consumption.\n",
        "    with torch.no_grad():\n",
        "        for i, vdata in enumerate(validation_loader):\n",
        "            vinputs, vlabels = vdata\n",
        "            voutputs = model(vinputs)\n",
        "            vloss = loss_fn(voutputs, vlabels)\n",
        "            running_vloss += vloss\n",
        "\n",
        "    avg_vloss = running_vloss / (i + 1)\n",
        "    print('LOSS train {} valid {}'.format(avg_loss, avg_vloss))\n",
        "\n",
        "    # Log the running loss averaged per batch\n",
        "    # for both training and validation\n",
        "    writer.add_scalars('Training vs. Validation Loss',\n",
        "                    { 'Training' : avg_loss, 'Validation' : avg_vloss },\n",
        "                    epoch_number + 1)\n",
        "    writer.flush()\n",
        "\n",
        "    # Track best performance, and save the model's state\n",
        "    if avg_vloss < best_vloss:\n",
        "        best_vloss = avg_vloss\n",
        "        model_path = 'model_{}_{}'.format(timestamp, epoch_number)\n",
        "        torch.save(model.state_dict(), model_path)\n",
        "\n",
        "    epoch_number += 1"
      ]
    },
    {
      "cell_type": "code",
      "execution_count": 26,
      "id": "9fe88338-dbcc-4c27-8696-289a00f10421",
      "metadata": {
        "id": "9fe88338-dbcc-4c27-8696-289a00f10421",
        "outputId": "cb41dd2f-b559-4b9d-9400-da95eb70e42c",
        "colab": {
          "base_uri": "https://localhost:8080/",
          "height": 212
        }
      },
      "outputs": [
        {
          "output_type": "stream",
          "name": "stdout",
          "text": [
            "Pullover  Dress  Shirt  Trouser\n"
          ]
        },
        {
          "output_type": "display_data",
          "data": {
            "text/plain": [
              "<Figure size 640x480 with 1 Axes>"
            ],
            "image/png": "[encoded data removed]"
          },
          "metadata": {}
        }
      ],
      "source": [
        "dataiter = iter(training_loader)\n",
        "images, labels = next(dataiter)\n",
        "\n",
        "# Create a grid from the images and show them\n",
        "img_grid = torchvision.utils.make_grid(images)\n",
        "matplotlib_imshow(img_grid, one_channel=True)\n",
        "print('  '.join(classes[labels[j]] for j in range(4)))"
      ]
    },
    {
      "cell_type": "code",
      "source": [
        "[classes[i] for i in model(images).argmax(axis = 1).tolist()]"
      ],
      "metadata": {
        "id": "0GyRPaYOuINq",
        "outputId": "a023c814-4c30-44b8-9013-4bd117a947b7",
        "colab": {
          "base_uri": "https://localhost:8080/"
        }
      },
      "id": "0GyRPaYOuINq",
      "execution_count": 28,
      "outputs": [
        {
          "output_type": "execute_result",
          "data": {
            "text/plain": [
              "['Pullover', 'Dress', 'T-shirt/top', 'Trouser']"
            ]
          },
          "metadata": {},
          "execution_count": 28
        }
      ]
    },
    {
      "cell_type": "code",
      "source": [],
      "metadata": {
        "id": "hRLccpIVuQlI"
      },
      "id": "hRLccpIVuQlI",
      "execution_count": null,
      "outputs": []
    }
  ],
  "metadata": {
    "kernelspec": {
      "display_name": "Python 3 (ipykernel)",
      "language": "python",
      "name": "python3"
    },
    "language_info": {
      "codemirror_mode": {
        "name": "ipython",
        "version": 3
      },
      "file_extension": ".py",
      "mimetype": "text/x-python",
      "name": "python",
      "nbconvert_exporter": "python",
      "pygments_lexer": "ipython3",
      "version": "3.11.4"
    },
    "colab": {
      "provenance": [],
      "toc_visible": true
    }
  },
  "nbformat": 4,
  "nbformat_minor": 5
}