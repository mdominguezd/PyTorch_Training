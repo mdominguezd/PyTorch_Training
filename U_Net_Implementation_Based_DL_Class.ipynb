{
  "nbformat": 4,
  "nbformat_minor": 0,
  "metadata": {
    "accelerator": "GPU",
    "colab": {
      "provenance": [],
      "gpuType": "T4",
      "include_colab_link": true
    },
    "kernelspec": {
      "display_name": "Python 3",
      "name": "python3"
    }
  },
  "cells": [
    {
      "cell_type": "markdown",
      "metadata": {
        "id": "view-in-github",
        "colab_type": "text"
      },
      "source": [
        "<a href=\"https://colab.research.google.com/github/mdominguezd/PyTorch_Training/blob/main/U_Net_Implementation_Based_DL_Class.ipynb\" target=\"_parent\"><img src=\"https://colab.research.google.com/assets/colab-badge.svg\" alt=\"Open In Colab\"/></a>"
      ]
    },
    {
      "cell_type": "markdown",
      "metadata": {
        "id": "4HqcgSrhS72i"
      },
      "source": [
        "# Using U-Net model to predict cashew crop extent remote sensing images\n",
        "\n",
        "## 1) Import data and create dataset"
      ]
    },
    {
      "cell_type": "code",
      "metadata": {
        "id": "G9euekwGBqNJ",
        "colab": {
          "base_uri": "https://localhost:8080/"
        },
        "outputId": "3c864754-85df-40ae-af17-333ebf141bdc"
      },
      "source": [
        "!wget -O Tanzania.zip https://www.dropbox.com/scl/fi/hyc0m1qbp8on77i6qf3v8/PlanetTanzania.zip?rlkey=plydnj6ie9okuo9cpku4gtyd3&dl=0\n",
        "# !wget -O IvoryCoast.zip https://www.dropbox.com/scl/fi/ha9x3xudi7edygn3xkp7t/PlanetIvoryCoast.zip?rlkey=unoax8sim7bgxduhd3t1n2iw2&dl=0"
      ],
      "execution_count": 1,
      "outputs": [
        {
          "output_type": "stream",
          "name": "stdout",
          "text": [
            "--2023-09-18 21:35:43--  https://www.dropbox.com/scl/fi/hyc0m1qbp8on77i6qf3v8/PlanetTanzania.zip?rlkey=plydnj6ie9okuo9cpku4gtyd3\n",
            "Resolving www.dropbox.com (www.dropbox.com)... 162.125.81.18, 2620:100:6031:18::a27d:5112\n",
            "Connecting to www.dropbox.com (www.dropbox.com)|162.125.81.18|:443... connected.\n",
            "HTTP request sent, awaiting response... 302 Found\n",
            "Location: https://www.dropbox.com/e/scl/fi/hyc0m1qbp8on77i6qf3v8/PlanetTanzania.zip?rlkey=plydnj6ie9okuo9cpku4gtyd3 [following]\n",
            "--2023-09-18 21:35:43--  https://www.dropbox.com/e/scl/fi/hyc0m1qbp8on77i6qf3v8/PlanetTanzania.zip?rlkey=plydnj6ie9okuo9cpku4gtyd3\n",
            "Reusing existing connection to www.dropbox.com:443.\n",
            "HTTP request sent, awaiting response... 302 Found\n",
            "Location: https://uccd902ee0fd5b57709bb738a9ea.dl.dropboxusercontent.com/cd/0/inline/CD-MSXDUU_FkM4qbbAw3ydMDhnwXWzSvrZV5r8sIaoVHCJ2wSyQeaB_qy2b8MbBYk7myZp18uPdfU0BTr_Om_Ghp7XwCoQm4jKj0GjTIr9g5HVostKUABblvVpgMR7CvqSiFGG2MxRCkfV17UqAXyB-h/file# [following]\n",
            "--2023-09-18 21:35:45--  https://uccd902ee0fd5b57709bb738a9ea.dl.dropboxusercontent.com/cd/0/inline/CD-MSXDUU_FkM4qbbAw3ydMDhnwXWzSvrZV5r8sIaoVHCJ2wSyQeaB_qy2b8MbBYk7myZp18uPdfU0BTr_Om_Ghp7XwCoQm4jKj0GjTIr9g5HVostKUABblvVpgMR7CvqSiFGG2MxRCkfV17UqAXyB-h/file\n",
            "Resolving uccd902ee0fd5b57709bb738a9ea.dl.dropboxusercontent.com (uccd902ee0fd5b57709bb738a9ea.dl.dropboxusercontent.com)... 162.125.64.15, 2620:100:6023:15::a27d:430f\n",
            "Connecting to uccd902ee0fd5b57709bb738a9ea.dl.dropboxusercontent.com (uccd902ee0fd5b57709bb738a9ea.dl.dropboxusercontent.com)|162.125.64.15|:443... connected.\n",
            "HTTP request sent, awaiting response... 302 Found\n",
            "Location: /cd/0/inline2/CD-RY6Yg4NlCw5GpdZZly0j_tTnw4tBgBGjs4sOan-NbOQ4-G9PXgBLq4zGcMWPPJ5-LBWHYYhkEUnSEYCYIUjGwpE9cPuwU1bYyCVoHNP-DYRGrtOD8x5FEJaRFBzf2kXJAPF121cU-ZJSVuKy130bUwFRnHqsGabctqdQ_azCyaLw2hQOLRXi7Yb5F8SfKXv8Wgkp5x0voZ8ETHd5KEJJtt5V1fV4FUMjkcTM10YVFKTWcegX8NjorUgJu95imfWxXLoXPhX9672T6p898KH2b9azxfh9xyLDMZG4heqwReEzCSixi8K195kdTiQQmrwPsaBc3jPKCYLhSQq870DNr0pJIlTUuy_IgRmfW-ZVkW8Uo3ye8to82EnkMbr2xwp4/file [following]\n",
            "--2023-09-18 21:35:46--  https://uccd902ee0fd5b57709bb738a9ea.dl.dropboxusercontent.com/cd/0/inline2/CD-RY6Yg4NlCw5GpdZZly0j_tTnw4tBgBGjs4sOan-NbOQ4-G9PXgBLq4zGcMWPPJ5-LBWHYYhkEUnSEYCYIUjGwpE9cPuwU1bYyCVoHNP-DYRGrtOD8x5FEJaRFBzf2kXJAPF121cU-ZJSVuKy130bUwFRnHqsGabctqdQ_azCyaLw2hQOLRXi7Yb5F8SfKXv8Wgkp5x0voZ8ETHd5KEJJtt5V1fV4FUMjkcTM10YVFKTWcegX8NjorUgJu95imfWxXLoXPhX9672T6p898KH2b9azxfh9xyLDMZG4heqwReEzCSixi8K195kdTiQQmrwPsaBc3jPKCYLhSQq870DNr0pJIlTUuy_IgRmfW-ZVkW8Uo3ye8to82EnkMbr2xwp4/file\n",
            "Reusing existing connection to uccd902ee0fd5b57709bb738a9ea.dl.dropboxusercontent.com:443.\n",
            "HTTP request sent, awaiting response... 200 OK\n",
            "Length: 94984734 (91M) [application/zip]\n",
            "Saving to: ‘Tanzania.zip’\n",
            "\n",
            "Tanzania.zip        100%[===================>]  90.58M  9.76MB/s    in 11s     \n",
            "\n",
            "2023-09-18 21:35:58 (8.46 MB/s) - ‘Tanzania.zip’ saved [94984734/94984734]\n",
            "\n"
          ]
        }
      ]
    },
    {
      "cell_type": "markdown",
      "source": [
        "Import necessary libraries"
      ],
      "metadata": {
        "id": "jru3oAI26YqF"
      }
    },
    {
      "cell_type": "code",
      "source": [
        "import ee\n",
        "import geemap\n",
        "import os\n",
        "import numpy as np\n",
        "import geopandas as gpd\n",
        "from zipfile import ZipFile\n",
        "import torchvision.transforms as T\n",
        "from torch.utils.data import random_split\n",
        "from skimage import io\n",
        "import matplotlib.pyplot as plt\n",
        "import torch\n",
        "import torch.nn as nn\n",
        "import torch.nn.functional as F\n",
        "from torch.utils.data import Dataset\n",
        "import shutil"
      ],
      "metadata": {
        "id": "bNSgUX4W6ICE"
      },
      "execution_count": 2,
      "outputs": []
    },
    {
      "cell_type": "code",
      "source": [
        "with ZipFile(\"Tanzania.zip\", 'r') as zipped:\n",
        "    zipped.extractall(path=\"./\")"
      ],
      "metadata": {
        "id": "sAXYsKhF6iqf"
      },
      "execution_count": 3,
      "outputs": []
    },
    {
      "cell_type": "code",
      "source": [
        "os.remove('Tanzania.zip')"
      ],
      "metadata": {
        "id": "WfIVOxHD6pCL"
      },
      "execution_count": 4,
      "outputs": []
    },
    {
      "cell_type": "code",
      "source": [
        "class Tanzania_Dataset(Dataset):\n",
        "  def __init__(self, img_folder): #GT_folder\n",
        "    self.img_folder = img_folder\n",
        "\n",
        "  def __len__(self):\n",
        "    return int(len(os.listdir(self.img_folder))/2)\n",
        "\n",
        "  def plot_imgs(self, idx):\n",
        "    fig, ax = plt.subplots(1,2,figsize = (12,6))\n",
        "    ax[0].imshow(self.__getitem__(idx)[0][[2,1,0],:,:].permute(1,2,0))\n",
        "    ax[0].set_title('Planet image')\n",
        "    ax[1].imshow(self.__getitem__(idx)[1][0,:,:])\n",
        "    ax[1].set_title('Cashew crops GT')\n",
        "\n",
        "  def __getitem__(self, idx):\n",
        "    #__getitem__ asks for the sample number idx.\n",
        "    idx += 1 #Meanwhile I fix the non zero index dataset\n",
        "\n",
        "    conversion = T.ToTensor()\n",
        "    img = io.imread(fname = self.img_folder + '/CroppedTanzaniaStudyArea_{:04d}'.format(idx) + '.tif').astype(np.float32)\n",
        "\n",
        "    img = img/np.max(img)\n",
        "\n",
        "    img = conversion(img).float()\n",
        "\n",
        "    GT = io.imread(fname = self.img_folder + '/CroppedTanzaniaGT_{:04d}'.format(idx) + '.tif').astype(np.float32)\n",
        "\n",
        "    GT = torch.flip(conversion(GT), dims = (1,))\n",
        "\n",
        "    return img, GT"
      ],
      "metadata": {
        "id": "2QIN0ZPw61Pw"
      },
      "execution_count": 5,
      "outputs": []
    },
    {
      "cell_type": "code",
      "source": [
        "tnz_DS = Tanzania_Dataset('Tanzania')\n",
        "\n",
        "tnz_DS.__len__()"
      ],
      "metadata": {
        "colab": {
          "base_uri": "https://localhost:8080/"
        },
        "id": "oGu4hQM169FQ",
        "outputId": "ade460a2-a00f-4b66-bf0b-999c6fc8cc5f"
      },
      "execution_count": 6,
      "outputs": [
        {
          "output_type": "execute_result",
          "data": {
            "text/plain": [
              "78"
            ]
          },
          "metadata": {},
          "execution_count": 6
        }
      ]
    },
    {
      "cell_type": "code",
      "source": [
        "#Set params\n",
        "batch_size = 8\n",
        "epochs = 10"
      ],
      "metadata": {
        "id": "j1Qy4tLe9JbY"
      },
      "execution_count": 91,
      "outputs": []
    },
    {
      "cell_type": "code",
      "source": [
        "generator1 = torch.Generator().manual_seed(42)\n",
        "\n",
        "train_DS, val_DS, test_DS = random_split(tnz_DS, [0.85, 0.1, 0.05], generator=generator1)\n",
        "\n",
        "#Note that we shuffle the data for the training set, but not for the validation set:\n",
        "train_loader = torch.utils.data.DataLoader(dataset=train_DS, batch_size=batch_size, shuffle=True)\n",
        "val_loader = torch.utils.data.DataLoader(dataset=val_DS, batch_size=batch_size, shuffle=False)\n",
        "test_loader = torch.utils.data.DataLoader(dataset=test_DS, batch_size=batch_size, shuffle=False)"
      ],
      "metadata": {
        "id": "XVzy2P707CuI"
      },
      "execution_count": 92,
      "outputs": []
    },
    {
      "cell_type": "markdown",
      "metadata": {
        "id": "Vv2Tdz0Dn0HR"
      },
      "source": [
        "### 2.4) Check that the data is correcly loaded\n",
        "You already know how the images should look like. Visualize the images in a batch to verify that the dataset dataloaders are working correctly.\n",
        "\n",
        "Plot the three images that the dataloader provided in a batch. We first need to make the train loader iterable by using `enumerate`. In a way, this randomly shuffles the batches and puts them on a line such that they can be called one by one using `next`. Note that batch contains two elements: `batch[0]` is simply the batch number, while `batch[1]` contains the actual data. Take a look at the two elements inside `batch[1]` and their shape, and plot the three images and ground truth labels."
      ]
    },
    {
      "cell_type": "code",
      "metadata": {
        "id": "4ESB2R-pxKwk"
      },
      "source": [
        "iterable_train_loader = enumerate(train_loader)"
      ],
      "execution_count": 93,
      "outputs": []
    },
    {
      "cell_type": "markdown",
      "metadata": {
        "id": "Sy1vhj3uYK75"
      },
      "source": [
        "## 2) Build and train the model\n",
        "### 3.1) Segmentation CNN\n",
        "\n",
        "To perform semantic segmentation, we are going to use a CNN that produces an output with the same spatial extent as the input image. So the first thing we want to do is to define the architecture. As a first model, we are going to build a model called 'hypercolumn'."
      ]
    },
    {
      "cell_type": "markdown",
      "metadata": {
        "id": "XlA0ky1NdROC"
      },
      "source": [
        "### 3.2) Building blocks of a CNN\n",
        "As we have seen during the lecture, a CNN is made of three main ingredients:\n",
        "1. Convolutions: in pytorch, a 2D convolution is defined as follow:\n",
        "> nn.Conv2d(number_input_channels, number_output_channels, kernel_size)\n",
        "2. Pooling layers: as we have seen, there are several types of pooling layers. We will use maxpooling:\n",
        "> nn.MaxPool2d(kernel_size)\n",
        "3. Activation function: once again, there are several activation functions. For instance, ReLU:\n",
        "> nn.ReLU()\n",
        "\n",
        "An additional building block that we will need to prepare our hypercolumn model is the upsample function:\n",
        "> nn.Upsample(size_to_which_we_should_interpolate, mode='bilinear')\n",
        "\n",
        "Once all the intermediate tensors have the same spatial size, we can concatenate them together by putting the tensors in a list or a tuple and defining along which dimension to concatenate (in our case 1, the channel dimension):\n",
        "> torch.cat(list_of_tensors, dim)\n",
        "\n",
        "The typical way of defining a network is to instantiate the building blocks in the \\_\\_init\\_\\_ function of the network, and to use them in the forward function to predict the output. So let's do that!\n",
        "\n",
        "IMPORTANT! Keep checking the [Pytorch documentation](https://pytorch.org/docs/stable/index.html), or asking Google, if you are not sure how a module works."
      ]
    },
    {
      "cell_type": "code",
      "metadata": {
        "id": "EhcrwFIxMrba"
      },
      "source": [
        "# In this cell we create the layers that form a minimal segmentation CNN.\n",
        "# This is what needs to be done inside the CNN's __init__() method.\n",
        "\n",
        "import torch\n",
        "import torch.nn as nn\n",
        "\n",
        "# Define three convolutional layers.\n",
        "conv1 = nn.Conv2d(4, 32, 7)\n",
        "conv2 = nn.Conv2d(32, 64, 5)\n",
        "conv3 = nn.Conv2d(64, 128, 5)\n",
        "\n",
        "#Pooling layer:\n",
        "pool = nn.MaxPool2d(4)\n",
        "\n",
        "#The interpolation. Note that it will upsample any input size to 512*512\n",
        "interpol = nn.Upsample(size=(512,512), mode='bilinear', align_corners=True)\n",
        "\n",
        "#And the final MLP layers. Note that we use 1*1 convolution for that.\n",
        "MLP1 = nn.Conv2d((128+64+32+4), 128, 1)\n",
        "MLP2 = nn.Conv2d(128, 2, 1)"
      ],
      "execution_count": 94,
      "outputs": []
    },
    {
      "cell_type": "code",
      "metadata": {
        "colab": {
          "base_uri": "https://localhost:8080/"
        },
        "id": "XC_ZQpyIPPVQ",
        "outputId": "f1006822-d5df-40c2-c900-e42bad8f2e4b"
      },
      "source": [
        "# And here we apply them to an image.\n",
        "# This is what needs to be done inside the CNN's forward() method.\n",
        "\n",
        "batch = next(iterable_train_loader) # We first obtain a batch from the dataloader\n",
        "x = batch[1][0]\n",
        "print('Original data shape: '+str(x.shape))\n",
        "#Go through the feature extractors\n",
        "x1 = pool(conv1(x))\n",
        "x1 = x1.relu()\n",
        "print('Shape after conv1+pool: '+str(x1.shape))\n",
        "x2 = pool(conv2(x1))\n",
        "x2 = x2.relu()\n",
        "print('Shape after conv2+pool: '+str(x2.shape))\n",
        "x3 = pool(conv3(x2))\n",
        "x3 = x3.relu()\n",
        "print('Shape after conv2+pool: '+str(x3.shape))\n",
        "\n",
        "# Upsample feature maps and concatenate\n",
        "features = torch.cat((x, interpol(x1), interpol(x2), interpol(x3)),1)\n",
        "print('Shape after upsampling+concat: '+str(features.shape))\n",
        "hc1 = MLP1(features).relu()\n",
        "print('Shape after MLP1: '+str(hc1.shape))\n",
        "output = MLP2(hc1)\n",
        "print('Shape of the output: '+str(output.shape))"
      ],
      "execution_count": 95,
      "outputs": [
        {
          "output_type": "stream",
          "name": "stdout",
          "text": [
            "Original data shape: torch.Size([8, 4, 512, 512])\n",
            "Shape after conv1+pool: torch.Size([8, 32, 126, 126])\n",
            "Shape after conv2+pool: torch.Size([8, 64, 30, 30])\n",
            "Shape after conv2+pool: torch.Size([8, 128, 6, 6])\n",
            "Shape after upsampling+concat: torch.Size([8, 228, 512, 512])\n",
            "Shape after MLP1: torch.Size([8, 128, 512, 512])\n",
            "Shape of the output: torch.Size([8, 2, 512, 512])\n"
          ]
        }
      ]
    },
    {
      "cell_type": "code",
      "metadata": {
        "id": "KWlPAYcBhzId"
      },
      "source": [
        "#### SOLUTION CODING SECTION 3.2\n",
        "import torch\n",
        "import torch.nn as nn\n",
        "\n",
        "class Hypercolumns(nn.Module):\n",
        "    def __init__(self):\n",
        "        super(Hypercolumns, self).__init__()\n",
        "\n",
        "        #Define the convolution layers\n",
        "        self.conv1 = nn.Conv2d(4, 32, 7)\n",
        "        self.conv2 = nn.Conv2d(32, 64, 5)\n",
        "        self.conv3 = nn.Conv2d(64, 128, 5)\n",
        "\n",
        "        self.bn1 = nn.BatchNorm2d(32)\n",
        "        self.bn2 = nn.BatchNorm2d(64)\n",
        "        self.bn3 = nn.BatchNorm2d(128)\n",
        "\n",
        "        #Pooling layer:\n",
        "        self.pool = nn.MaxPool2d(4)\n",
        "\n",
        "        #The interpolation. Note that it will upsample any input size to 512*512\n",
        "        self.interpol = nn.Upsample(size=(512,512), mode='bilinear', align_corners=True)\n",
        "\n",
        "        #And the final MLP layers. Note that we use 1*1 convolution for that.\n",
        "        self.MLP1 = nn.Conv2d((128+64+32), 128, 1)\n",
        "        self.MLP2 = nn.Conv2d(128, 2, 1)\n",
        "\n",
        "    def forward(self, x):\n",
        "        #Go through the feature extractors\n",
        "        x1 = self.pool(self.conv1(x))\n",
        "        x1 = self.bn1(x1)\n",
        "        x1 = x1.relu()\n",
        "\n",
        "        x2 = self.pool(self.conv2(x1))\n",
        "        x2 = self.bn2(x2)\n",
        "        x2 = x2.relu()\n",
        "\n",
        "        x3 = self.pool(self.conv3(x2))\n",
        "        x3 = self.bn3(x3)\n",
        "        x3 = x3.relu()\n",
        "\n",
        "\n",
        "        #Construct hypercolumn\n",
        "        features = torch.cat((self.interpol(x1), self.interpol(x2), self.interpol(x3)),1)\n",
        "\n",
        "        #MLP\n",
        "        hc1 = self.MLP1(features).relu()\n",
        "        output = self.MLP2(hc1)\n",
        "\n",
        "        return output"
      ],
      "execution_count": 96,
      "outputs": []
    },
    {
      "cell_type": "code",
      "source": [
        "net = Hypercolumns()\n"
      ],
      "metadata": {
        "id": "xpouMrmaPffn"
      },
      "execution_count": 97,
      "outputs": []
    },
    {
      "cell_type": "markdown",
      "metadata": {
        "id": "9DXGUBDrnfkI"
      },
      "source": [
        "We can now check that it works by feeding a simple input (an empty image) to our network. Note that in pytorch, 2D inputs are defined as $(N, C, H, W)$ where $N$ is the number of samples (in our case 1), $C$ is the number of channels (in our case 3) and $H$ and $W$ are the height and width of the sample respectively."
      ]
    },
    {
      "cell_type": "code",
      "metadata": {
        "colab": {
          "base_uri": "https://localhost:8080/"
        },
        "id": "2ZIAFU0vmgSF",
        "outputId": "bacb4cf0-76d7-45c3-d61c-ee53e9bda111"
      },
      "source": [
        "network = Hypercolumns()\n",
        "batch = next(iterable_train_loader)\n",
        "output = network(batch[1][0])\n",
        "print(output.shape)"
      ],
      "execution_count": 98,
      "outputs": [
        {
          "output_type": "stream",
          "name": "stdout",
          "text": [
            "torch.Size([8, 2, 512, 512])\n"
          ]
        }
      ]
    },
    {
      "cell_type": "markdown",
      "metadata": {
        "id": "yQKSVTKeoN3r"
      },
      "source": [
        "We obtained an output of the same spatial input size, but with 6 channels (one for each class), which is what we wanted!\n",
        "\n",
        "Remember to comment out or remove any print statements on the forward method in order to prevent a flood of prints when training the model."
      ]
    },
    {
      "cell_type": "markdown",
      "metadata": {
        "id": "IRho5oV89dhS"
      },
      "source": [
        "### 3.4) Training the model\n",
        "\n",
        "Now that we have a model and our training data, we are going to be able to actually train the model.\n",
        "\n",
        "The most common way to train such a model is to proceed by *epochs*: during one epoch, we go through the training set once (feedforwarding the batches and backpropagate the gradients). Then we will compute the loss on the validation set to check that we are not overfitting or underfitting.\n",
        "\n",
        "So the first thing we want to do is to define the loss function. Once again, pytorch implements several of them. The one that we will use is a classification loss (after all, we are trying to assign a class to each of the pixels) and is called the cross-entropy. It is defined as follow:\n",
        "\n",
        "$l(\\mathbf{y_i}, \\hat{y}_i) = -  \\log \\left(\\frac{exp(y_{i,\\hat{y}_i})}{\\sum_c exp(y_{i,c})}\\right)$, where $y_{i,c}$ is the score of class $c$ at pixel $i$. To use it in pytorch, we just instantiate the following:"
      ]
    },
    {
      "cell_type": "code",
      "metadata": {
        "id": "0fEXYz7mGfq5"
      },
      "source": [
        "loss_function = torch.nn.CrossEntropyLoss()"
      ],
      "execution_count": 99,
      "outputs": []
    },
    {
      "cell_type": "markdown",
      "metadata": {
        "id": "HrTkeDGEGtxP"
      },
      "source": [
        "Then, we want to use an optimizer. In pytorch, you have to instantiate an object which will keep track of the current state and of the parameters to optimize. The most simple optimization algorithm that you can use is the stochastic gradient descent (SGD):"
      ]
    },
    {
      "cell_type": "code",
      "metadata": {
        "id": "KhqM3xEcHYmX"
      },
      "source": [
        "optimizer = torch.optim.SGD(network.parameters(), lr=0.1)"
      ],
      "execution_count": 100,
      "outputs": []
    },
    {
      "cell_type": "markdown",
      "metadata": {
        "id": "zSgeELsNHuNU"
      },
      "source": [
        "We now have all the ingredients required to do the training!\n",
        "\n",
        "So let's build our training loop and run it!\n",
        "\n",
        "**Careful:**\n",
        "* you should enable GPU in your collab at this point. To do so go to runtime -> Change runtime type -> Hardware accelerator and select \"GPU\";\n",
        "* the default epoch number (3) should run in around 5min (on GPU)."
      ]
    },
    {
      "cell_type": "code",
      "metadata": {
        "colab": {
          "base_uri": "https://localhost:8080/"
        },
        "id": "ARhuLsz9JO5l",
        "outputId": "33cb4f87-dd73-4cca-99af-84fe74310734"
      },
      "source": [
        "device = torch.device('cuda' if torch.cuda.is_available() else 'cpu')\n",
        "print('Using device:', device)"
      ],
      "execution_count": 101,
      "outputs": [
        {
          "output_type": "stream",
          "name": "stdout",
          "text": [
            "Using device: cuda\n"
          ]
        }
      ]
    },
    {
      "cell_type": "code",
      "source": [
        "# iter = enumerate(val_loader)\n",
        "# i, (inputs, GTs) = next(iter)\n",
        "# GTs.shape\n",
        "# pred = network(inputs.to(device))\n",
        "# pred.shape"
      ],
      "metadata": {
        "id": "AgS-0dvLKVLb"
      },
      "execution_count": 102,
      "outputs": []
    },
    {
      "cell_type": "code",
      "metadata": {
        "colab": {
          "base_uri": "https://localhost:8080/",
          "height": 456
        },
        "id": "Be15ru60H2QV",
        "outputId": "83809684-f7ae-48ee-c406-5933df602333"
      },
      "source": [
        "!pip install d2l==0.14.2 -q\n",
        "from d2l import torch as d2l\n",
        "from collections import deque\n",
        "from statistics import mean\n",
        "\n",
        "\n",
        "def evaluate(net, validate_loader, loss_function):\n",
        "  #You need to set the network to eval mode when using batch normalization (to\n",
        "  #be consistent across evaluation samples, we use mean and stddev computed\n",
        "  #during training when doing inference, as opposed to ones computed on the\n",
        "  #batch) or dropout (you want to use all the parameters during inference).\n",
        "  net.eval()  # Set the model to evaluation mode\n",
        "  device = next(iter(net.parameters())).device\n",
        "  metric = d2l.Accumulator(4)\n",
        "  #This line reduces the memory by not tracking the gradients. Also to be used\n",
        "  #during inference.\n",
        "  with torch.no_grad():\n",
        "    for i, (inputs, GTs) in enumerate(validate_loader):\n",
        "      #Send inputs and GTs them to the computation device (i.e. GPU). The GTs tensor\n",
        "      #has to be converted to nn.LongTensor type (a type of integer) and turned into\n",
        "      #a 3D tensor by removing dimension 1 with the squeeze() function.\n",
        "      inputs = inputs.to(device)\n",
        "      GTs = GTs.type(torch.long).squeeze().to(device)\n",
        "      pred = network(inputs)\n",
        "      # pred = pred[:,0,:,:].float()\n",
        "      # print(pred[0,0,0], GTs[0,0,0])\n",
        "      loss = loss_function(pred, GTs)\n",
        "      overall_accuracy = (pred.max(1)[1]==GTs).float().mean()\n",
        "      metric.add(loss, GTs.shape[0], overall_accuracy, 1)\n",
        "  return metric\n",
        "\n",
        "\n",
        "number_epochs = epochs\n",
        "\n",
        "animator = d2l.Animator(xlabel='epoch', xlim=[0, number_epochs], ylim=[0, 1],\n",
        "                        legend=['train loss', 'train acc', 'val loss', 'val acc'],\n",
        "                        fmts=('-', 'm--', 'g-.', 'r:'),\n",
        "                        figsize=(7, 5))\n",
        "\n",
        "network = Hypercolumns()\n",
        "network.to(device)\n",
        "optimizer = torch.optim.SGD(network.parameters(), lr=0.1)\n",
        "#Training metrics are computed as a running average of the last x samples\n",
        "loss_train = deque(maxlen=len(train_loader))\n",
        "accuracy_train = deque(maxlen=len(train_loader))\n",
        "\n",
        "for epoch in range(number_epochs):\n",
        "  #Validation phase:\n",
        "  metric_val = evaluate(network, val_loader, loss_function)\n",
        "  animator.add(epoch,(None, None, metric_val[0]/metric_val[1], metric_val[2]/metric_val[3]))\n",
        "\n",
        "  #Training phase:\n",
        "  network.train() #indicate to the network that we enter training mode\n",
        "  for i, (inputs, GTs) in enumerate(train_loader):\n",
        "    inputs = inputs.to(device)\n",
        "    GTs = GTs.type(torch.long).squeeze().to(device)\n",
        "    #We set the gradients of the model to 0.\n",
        "    optimizer.zero_grad()\n",
        "    pred = network(inputs)\n",
        "    loss = loss_function(pred, GTs)\n",
        "    overall_accuracy = (pred.max(1)[1]==GTs).float().mean()\n",
        "    #We accumulate the gradients...\n",
        "    loss.backward()\n",
        "    #...and we update the parameters according to the gradients.\n",
        "    optimizer.step()\n",
        "    loss_train.append(loss.item()/GTs.shape[0])\n",
        "    accuracy_train.append(overall_accuracy.item())\n",
        "    animator.add(epoch+i/len(train_loader),\n",
        "                      (mean(loss_train), mean(accuracy_train), None, None))\n",
        "\n",
        "\n",
        "  #After each training epoch, reduce the learning rate by a factor of 0.25\n",
        "  optimizer.param_groups[0]['lr'] *= 0.25\n",
        "\n",
        "metric_val = evaluate(network, val_loader, loss_function)\n",
        "animator.add(epoch+1,(None, None, metric_val[0]/metric_val[1], metric_val[2]/metric_val[3]))\n",
        "\n",
        "\n",
        "#Optional, if you want to save your model (you will need to use a folder where you have writing rights):\n",
        "#torch.save(network.state_dict(), os.path.join(base_folder, 'WeightsVaihingen/', 'Hypercolumns_' + str(number_epochs) + \"epochs.pth\")\n",
        "#torch.save(network.state_dict(), os.path.join(base_folder, 'WeightsVaihingen/', 'Hypercolumns_augm_weigths_' + str(number_epochs) + 'epochs.pth'))\n"
      ],
      "execution_count": null,
      "outputs": [
        {
          "output_type": "display_data",
          "data": {
            "text/plain": [
              "<Figure size 700x500 with 1 Axes>"
            ],
            "image/svg+xml": "<?xml version=\"1.0\" encoding=\"utf-8\" standalone=\"no\"?>\n<!DOCTYPE svg PUBLIC \"-//W3C//DTD SVG 1.1//EN\"\n  \"http://www.w3.org/Graphics/SVG/1.1/DTD/svg11.dtd\">\n<svg xmlns:xlink=\"http://www.w3.org/1999/xlink\" width=\"434.265625pt\" height=\"325.755469pt\" viewBox=\"0 0 434.265625 325.755469\" xmlns=\"http://www.w3.org/2000/svg\" version=\"1.1\">\n <metadata>\n  <rdf:RDF xmlns:dc=\"http://purl.org/dc/elements/1.1/\" xmlns:cc=\"http://creativecommons.org/ns#\" xmlns:rdf=\"http://www.w3.org/1999/02/22-rdf-syntax-ns#\">\n   <cc:Work>\n    <dc:type rdf:resource=\"http://purl.org/dc/dcmitype/StillImage\"/>\n    <dc:date>2023-09-18T22:19:08.076863</dc:date>\n    <dc:format>image/svg+xml</dc:format>\n    <dc:creator>\n     <cc:Agent>\n      <dc:title>Matplotlib v3.7.1, https://matplotlib.org/</dc:title>\n     </cc:Agent>\n    </dc:creator>\n   </cc:Work>\n  </rdf:RDF>\n </metadata>\n <defs>\n  <style type=\"text/css\">*{stroke-linejoin: round; stroke-linecap: butt}</style>\n </defs>\n <g id=\"figure_1\">\n  <g id=\"patch_1\">\n   <path d=\"M 0 325.755469 \nL 434.265625 325.755469 \nL 434.265625 0 \nL 0 0 \nz\n\" style=\"fill: #ffffff\"/>\n  </g>\n  <g id=\"axes_1\">\n   <g id=\"patch_2\">\n    <path d=\"M 30.103125 288.199219 \nL 420.703125 288.199219 \nL 420.703125 10.999219 \nL 30.103125 10.999219 \nz\n\" style=\"fill: #ffffff\"/>\n   </g>\n   <g id=\"matplotlib.axis_1\">\n    <g id=\"xtick_1\">\n     <g id=\"line2d_1\">\n      <path d=\"M 30.103125 288.199219 \nL 30.103125 10.999219 \n\" clip-path=\"url(#p070f09d201)\" style=\"fill: none; stroke: #b0b0b0; stroke-width: 0.8; stroke-linecap: square\"/>\n     </g>\n     <g id=\"line2d_2\">\n      <defs>\n       <path id=\"m3507553283\" d=\"M 0 0 \nL 0 3.5 \n\" style=\"stroke: #000000; stroke-width: 0.8\"/>\n      </defs>\n      <g>\n       <use xlink:href=\"#m3507553283\" x=\"30.103125\" y=\"288.199219\" style=\"stroke: #000000; stroke-width: 0.8\"/>\n      </g>\n     </g>\n     <g id=\"text_1\">\n      <!-- 0 -->\n      <g transform=\"translate(26.921875 302.797656) scale(0.1 -0.1)\">\n       <defs>\n        <path id=\"DejaVuSans-30\" d=\"M 2034 4250 \nQ 1547 4250 1301 3770 \nQ 1056 3291 1056 2328 \nQ 1056 1369 1301 889 \nQ 1547 409 2034 409 \nQ 2525 409 2770 889 \nQ 3016 1369 3016 2328 \nQ 3016 3291 2770 3770 \nQ 2525 4250 2034 4250 \nz\nM 2034 4750 \nQ 2819 4750 3233 4129 \nQ 3647 3509 3647 2328 \nQ 3647 1150 3233 529 \nQ 2819 -91 2034 -91 \nQ 1250 -91 836 529 \nQ 422 1150 422 2328 \nQ 422 3509 836 4129 \nQ 1250 4750 2034 4750 \nz\n\" transform=\"scale(0.015625)\"/>\n       </defs>\n       <use xlink:href=\"#DejaVuSans-30\"/>\n      </g>\n     </g>\n    </g>\n    <g id=\"xtick_2\">\n     <g id=\"line2d_3\">\n      <path d=\"M 108.223125 288.199219 \nL 108.223125 10.999219 \n\" clip-path=\"url(#p070f09d201)\" style=\"fill: none; stroke: #b0b0b0; stroke-width: 0.8; stroke-linecap: square\"/>\n     </g>\n     <g id=\"line2d_4\">\n      <g>\n       <use xlink:href=\"#m3507553283\" x=\"108.223125\" y=\"288.199219\" style=\"stroke: #000000; stroke-width: 0.8\"/>\n      </g>\n     </g>\n     <g id=\"text_2\">\n      <!-- 2 -->\n      <g transform=\"translate(105.041875 302.797656) scale(0.1 -0.1)\">\n       <defs>\n        <path id=\"DejaVuSans-32\" d=\"M 1228 531 \nL 3431 531 \nL 3431 0 \nL 469 0 \nL 469 531 \nQ 828 903 1448 1529 \nQ 2069 2156 2228 2338 \nQ 2531 2678 2651 2914 \nQ 2772 3150 2772 3378 \nQ 2772 3750 2511 3984 \nQ 2250 4219 1831 4219 \nQ 1534 4219 1204 4116 \nQ 875 4013 500 3803 \nL 500 4441 \nQ 881 4594 1212 4672 \nQ 1544 4750 1819 4750 \nQ 2544 4750 2975 4387 \nQ 3406 4025 3406 3419 \nQ 3406 3131 3298 2873 \nQ 3191 2616 2906 2266 \nQ 2828 2175 2409 1742 \nQ 1991 1309 1228 531 \nz\n\" transform=\"scale(0.015625)\"/>\n       </defs>\n       <use xlink:href=\"#DejaVuSans-32\"/>\n      </g>\n     </g>\n    </g>\n    <g id=\"xtick_3\">\n     <g id=\"line2d_5\">\n      <path d=\"M 186.343125 288.199219 \nL 186.343125 10.999219 \n\" clip-path=\"url(#p070f09d201)\" style=\"fill: none; stroke: #b0b0b0; stroke-width: 0.8; stroke-linecap: square\"/>\n     </g>\n     <g id=\"line2d_6\">\n      <g>\n       <use xlink:href=\"#m3507553283\" x=\"186.343125\" y=\"288.199219\" style=\"stroke: #000000; stroke-width: 0.8\"/>\n      </g>\n     </g>\n     <g id=\"text_3\">\n      <!-- 4 -->\n      <g transform=\"translate(183.161875 302.797656) scale(0.1 -0.1)\">\n       <defs>\n        <path id=\"DejaVuSans-34\" d=\"M 2419 4116 \nL 825 1625 \nL 2419 1625 \nL 2419 4116 \nz\nM 2253 4666 \nL 3047 4666 \nL 3047 1625 \nL 3713 1625 \nL 3713 1100 \nL 3047 1100 \nL 3047 0 \nL 2419 0 \nL 2419 1100 \nL 313 1100 \nL 313 1709 \nL 2253 4666 \nz\n\" transform=\"scale(0.015625)\"/>\n       </defs>\n       <use xlink:href=\"#DejaVuSans-34\"/>\n      </g>\n     </g>\n    </g>\n    <g id=\"xtick_4\">\n     <g id=\"line2d_7\">\n      <path d=\"M 264.463125 288.199219 \nL 264.463125 10.999219 \n\" clip-path=\"url(#p070f09d201)\" style=\"fill: none; stroke: #b0b0b0; stroke-width: 0.8; stroke-linecap: square\"/>\n     </g>\n     <g id=\"line2d_8\">\n      <g>\n       <use xlink:href=\"#m3507553283\" x=\"264.463125\" y=\"288.199219\" style=\"stroke: #000000; stroke-width: 0.8\"/>\n      </g>\n     </g>\n     <g id=\"text_4\">\n      <!-- 6 -->\n      <g transform=\"translate(261.281875 302.797656) scale(0.1 -0.1)\">\n       <defs>\n        <path id=\"DejaVuSans-36\" d=\"M 2113 2584 \nQ 1688 2584 1439 2293 \nQ 1191 2003 1191 1497 \nQ 1191 994 1439 701 \nQ 1688 409 2113 409 \nQ 2538 409 2786 701 \nQ 3034 994 3034 1497 \nQ 3034 2003 2786 2293 \nQ 2538 2584 2113 2584 \nz\nM 3366 4563 \nL 3366 3988 \nQ 3128 4100 2886 4159 \nQ 2644 4219 2406 4219 \nQ 1781 4219 1451 3797 \nQ 1122 3375 1075 2522 \nQ 1259 2794 1537 2939 \nQ 1816 3084 2150 3084 \nQ 2853 3084 3261 2657 \nQ 3669 2231 3669 1497 \nQ 3669 778 3244 343 \nQ 2819 -91 2113 -91 \nQ 1303 -91 875 529 \nQ 447 1150 447 2328 \nQ 447 3434 972 4092 \nQ 1497 4750 2381 4750 \nQ 2619 4750 2861 4703 \nQ 3103 4656 3366 4563 \nz\n\" transform=\"scale(0.015625)\"/>\n       </defs>\n       <use xlink:href=\"#DejaVuSans-36\"/>\n      </g>\n     </g>\n    </g>\n    <g id=\"xtick_5\">\n     <g id=\"line2d_9\">\n      <path d=\"M 342.583125 288.199219 \nL 342.583125 10.999219 \n\" clip-path=\"url(#p070f09d201)\" style=\"fill: none; stroke: #b0b0b0; stroke-width: 0.8; stroke-linecap: square\"/>\n     </g>\n     <g id=\"line2d_10\">\n      <g>\n       <use xlink:href=\"#m3507553283\" x=\"342.583125\" y=\"288.199219\" style=\"stroke: #000000; stroke-width: 0.8\"/>\n      </g>\n     </g>\n     <g id=\"text_5\">\n      <!-- 8 -->\n      <g transform=\"translate(339.401875 302.797656) scale(0.1 -0.1)\">\n       <defs>\n        <path id=\"DejaVuSans-38\" d=\"M 2034 2216 \nQ 1584 2216 1326 1975 \nQ 1069 1734 1069 1313 \nQ 1069 891 1326 650 \nQ 1584 409 2034 409 \nQ 2484 409 2743 651 \nQ 3003 894 3003 1313 \nQ 3003 1734 2745 1975 \nQ 2488 2216 2034 2216 \nz\nM 1403 2484 \nQ 997 2584 770 2862 \nQ 544 3141 544 3541 \nQ 544 4100 942 4425 \nQ 1341 4750 2034 4750 \nQ 2731 4750 3128 4425 \nQ 3525 4100 3525 3541 \nQ 3525 3141 3298 2862 \nQ 3072 2584 2669 2484 \nQ 3125 2378 3379 2068 \nQ 3634 1759 3634 1313 \nQ 3634 634 3220 271 \nQ 2806 -91 2034 -91 \nQ 1263 -91 848 271 \nQ 434 634 434 1313 \nQ 434 1759 690 2068 \nQ 947 2378 1403 2484 \nz\nM 1172 3481 \nQ 1172 3119 1398 2916 \nQ 1625 2713 2034 2713 \nQ 2441 2713 2670 2916 \nQ 2900 3119 2900 3481 \nQ 2900 3844 2670 4047 \nQ 2441 4250 2034 4250 \nQ 1625 4250 1398 4047 \nQ 1172 3844 1172 3481 \nz\n\" transform=\"scale(0.015625)\"/>\n       </defs>\n       <use xlink:href=\"#DejaVuSans-38\"/>\n      </g>\n     </g>\n    </g>\n    <g id=\"xtick_6\">\n     <g id=\"line2d_11\">\n      <path d=\"M 420.703125 288.199219 \nL 420.703125 10.999219 \n\" clip-path=\"url(#p070f09d201)\" style=\"fill: none; stroke: #b0b0b0; stroke-width: 0.8; stroke-linecap: square\"/>\n     </g>\n     <g id=\"line2d_12\">\n      <g>\n       <use xlink:href=\"#m3507553283\" x=\"420.703125\" y=\"288.199219\" style=\"stroke: #000000; stroke-width: 0.8\"/>\n      </g>\n     </g>\n     <g id=\"text_6\">\n      <!-- 10 -->\n      <g transform=\"translate(414.340625 302.797656) scale(0.1 -0.1)\">\n       <defs>\n        <path id=\"DejaVuSans-31\" d=\"M 794 531 \nL 1825 531 \nL 1825 4091 \nL 703 3866 \nL 703 4441 \nL 1819 4666 \nL 2450 4666 \nL 2450 531 \nL 3481 531 \nL 3481 0 \nL 794 0 \nL 794 531 \nz\n\" transform=\"scale(0.015625)\"/>\n       </defs>\n       <use xlink:href=\"#DejaVuSans-31\"/>\n       <use xlink:href=\"#DejaVuSans-30\" x=\"63.623047\"/>\n      </g>\n     </g>\n    </g>\n    <g id=\"text_7\">\n     <!-- epoch -->\n     <g transform=\"translate(210.175 316.475781) scale(0.1 -0.1)\">\n      <defs>\n       <path id=\"DejaVuSans-65\" d=\"M 3597 1894 \nL 3597 1613 \nL 953 1613 \nQ 991 1019 1311 708 \nQ 1631 397 2203 397 \nQ 2534 397 2845 478 \nQ 3156 559 3463 722 \nL 3463 178 \nQ 3153 47 2828 -22 \nQ 2503 -91 2169 -91 \nQ 1331 -91 842 396 \nQ 353 884 353 1716 \nQ 353 2575 817 3079 \nQ 1281 3584 2069 3584 \nQ 2775 3584 3186 3129 \nQ 3597 2675 3597 1894 \nz\nM 3022 2063 \nQ 3016 2534 2758 2815 \nQ 2500 3097 2075 3097 \nQ 1594 3097 1305 2825 \nQ 1016 2553 972 2059 \nL 3022 2063 \nz\n\" transform=\"scale(0.015625)\"/>\n       <path id=\"DejaVuSans-70\" d=\"M 1159 525 \nL 1159 -1331 \nL 581 -1331 \nL 581 3500 \nL 1159 3500 \nL 1159 2969 \nQ 1341 3281 1617 3432 \nQ 1894 3584 2278 3584 \nQ 2916 3584 3314 3078 \nQ 3713 2572 3713 1747 \nQ 3713 922 3314 415 \nQ 2916 -91 2278 -91 \nQ 1894 -91 1617 61 \nQ 1341 213 1159 525 \nz\nM 3116 1747 \nQ 3116 2381 2855 2742 \nQ 2594 3103 2138 3103 \nQ 1681 3103 1420 2742 \nQ 1159 2381 1159 1747 \nQ 1159 1113 1420 752 \nQ 1681 391 2138 391 \nQ 2594 391 2855 752 \nQ 3116 1113 3116 1747 \nz\n\" transform=\"scale(0.015625)\"/>\n       <path id=\"DejaVuSans-6f\" d=\"M 1959 3097 \nQ 1497 3097 1228 2736 \nQ 959 2375 959 1747 \nQ 959 1119 1226 758 \nQ 1494 397 1959 397 \nQ 2419 397 2687 759 \nQ 2956 1122 2956 1747 \nQ 2956 2369 2687 2733 \nQ 2419 3097 1959 3097 \nz\nM 1959 3584 \nQ 2709 3584 3137 3096 \nQ 3566 2609 3566 1747 \nQ 3566 888 3137 398 \nQ 2709 -91 1959 -91 \nQ 1206 -91 779 398 \nQ 353 888 353 1747 \nQ 353 2609 779 3096 \nQ 1206 3584 1959 3584 \nz\n\" transform=\"scale(0.015625)\"/>\n       <path id=\"DejaVuSans-63\" d=\"M 3122 3366 \nL 3122 2828 \nQ 2878 2963 2633 3030 \nQ 2388 3097 2138 3097 \nQ 1578 3097 1268 2742 \nQ 959 2388 959 1747 \nQ 959 1106 1268 751 \nQ 1578 397 2138 397 \nQ 2388 397 2633 464 \nQ 2878 531 3122 666 \nL 3122 134 \nQ 2881 22 2623 -34 \nQ 2366 -91 2075 -91 \nQ 1284 -91 818 406 \nQ 353 903 353 1747 \nQ 353 2603 823 3093 \nQ 1294 3584 2113 3584 \nQ 2378 3584 2631 3529 \nQ 2884 3475 3122 3366 \nz\n\" transform=\"scale(0.015625)\"/>\n       <path id=\"DejaVuSans-68\" d=\"M 3513 2113 \nL 3513 0 \nL 2938 0 \nL 2938 2094 \nQ 2938 2591 2744 2837 \nQ 2550 3084 2163 3084 \nQ 1697 3084 1428 2787 \nQ 1159 2491 1159 1978 \nL 1159 0 \nL 581 0 \nL 581 4863 \nL 1159 4863 \nL 1159 2956 \nQ 1366 3272 1645 3428 \nQ 1925 3584 2291 3584 \nQ 2894 3584 3203 3211 \nQ 3513 2838 3513 2113 \nz\n\" transform=\"scale(0.015625)\"/>\n      </defs>\n      <use xlink:href=\"#DejaVuSans-65\"/>\n      <use xlink:href=\"#DejaVuSans-70\" x=\"61.523438\"/>\n      <use xlink:href=\"#DejaVuSans-6f\" x=\"125\"/>\n      <use xlink:href=\"#DejaVuSans-63\" x=\"186.181641\"/>\n      <use xlink:href=\"#DejaVuSans-68\" x=\"241.162109\"/>\n     </g>\n    </g>\n   </g>\n   <g id=\"matplotlib.axis_2\">\n    <g id=\"ytick_1\">\n     <g id=\"line2d_13\">\n      <path d=\"M 30.103125 288.199219 \nL 420.703125 288.199219 \n\" clip-path=\"url(#p070f09d201)\" style=\"fill: none; stroke: #b0b0b0; stroke-width: 0.8; stroke-linecap: square\"/>\n     </g>\n     <g id=\"line2d_14\">\n      <defs>\n       <path id=\"mc61d3f02d5\" d=\"M 0 0 \nL -3.5 0 \n\" style=\"stroke: #000000; stroke-width: 0.8\"/>\n      </defs>\n      <g>\n       <use xlink:href=\"#mc61d3f02d5\" x=\"30.103125\" y=\"288.199219\" style=\"stroke: #000000; stroke-width: 0.8\"/>\n      </g>\n     </g>\n     <g id=\"text_8\">\n      <!-- 0.0 -->\n      <g transform=\"translate(7.2 291.998438) scale(0.1 -0.1)\">\n       <defs>\n        <path id=\"DejaVuSans-2e\" d=\"M 684 794 \nL 1344 794 \nL 1344 0 \nL 684 0 \nL 684 794 \nz\n\" transform=\"scale(0.015625)\"/>\n       </defs>\n       <use xlink:href=\"#DejaVuSans-30\"/>\n       <use xlink:href=\"#DejaVuSans-2e\" x=\"63.623047\"/>\n       <use xlink:href=\"#DejaVuSans-30\" x=\"95.410156\"/>\n      </g>\n     </g>\n    </g>\n    <g id=\"ytick_2\">\n     <g id=\"line2d_15\">\n      <path d=\"M 30.103125 232.759219 \nL 420.703125 232.759219 \n\" clip-path=\"url(#p070f09d201)\" style=\"fill: none; stroke: #b0b0b0; stroke-width: 0.8; stroke-linecap: square\"/>\n     </g>\n     <g id=\"line2d_16\">\n      <g>\n       <use xlink:href=\"#mc61d3f02d5\" x=\"30.103125\" y=\"232.759219\" style=\"stroke: #000000; stroke-width: 0.8\"/>\n      </g>\n     </g>\n     <g id=\"text_9\">\n      <!-- 0.2 -->\n      <g transform=\"translate(7.2 236.558438) scale(0.1 -0.1)\">\n       <use xlink:href=\"#DejaVuSans-30\"/>\n       <use xlink:href=\"#DejaVuSans-2e\" x=\"63.623047\"/>\n       <use xlink:href=\"#DejaVuSans-32\" x=\"95.410156\"/>\n      </g>\n     </g>\n    </g>\n    <g id=\"ytick_3\">\n     <g id=\"line2d_17\">\n      <path d=\"M 30.103125 177.319219 \nL 420.703125 177.319219 \n\" clip-path=\"url(#p070f09d201)\" style=\"fill: none; stroke: #b0b0b0; stroke-width: 0.8; stroke-linecap: square\"/>\n     </g>\n     <g id=\"line2d_18\">\n      <g>\n       <use xlink:href=\"#mc61d3f02d5\" x=\"30.103125\" y=\"177.319219\" style=\"stroke: #000000; stroke-width: 0.8\"/>\n      </g>\n     </g>\n     <g id=\"text_10\">\n      <!-- 0.4 -->\n      <g transform=\"translate(7.2 181.118437) scale(0.1 -0.1)\">\n       <use xlink:href=\"#DejaVuSans-30\"/>\n       <use xlink:href=\"#DejaVuSans-2e\" x=\"63.623047\"/>\n       <use xlink:href=\"#DejaVuSans-34\" x=\"95.410156\"/>\n      </g>\n     </g>\n    </g>\n    <g id=\"ytick_4\">\n     <g id=\"line2d_19\">\n      <path d=\"M 30.103125 121.879219 \nL 420.703125 121.879219 \n\" clip-path=\"url(#p070f09d201)\" style=\"fill: none; stroke: #b0b0b0; stroke-width: 0.8; stroke-linecap: square\"/>\n     </g>\n     <g id=\"line2d_20\">\n      <g>\n       <use xlink:href=\"#mc61d3f02d5\" x=\"30.103125\" y=\"121.879219\" style=\"stroke: #000000; stroke-width: 0.8\"/>\n      </g>\n     </g>\n     <g id=\"text_11\">\n      <!-- 0.6 -->\n      <g transform=\"translate(7.2 125.678437) scale(0.1 -0.1)\">\n       <use xlink:href=\"#DejaVuSans-30\"/>\n       <use xlink:href=\"#DejaVuSans-2e\" x=\"63.623047\"/>\n       <use xlink:href=\"#DejaVuSans-36\" x=\"95.410156\"/>\n      </g>\n     </g>\n    </g>\n    <g id=\"ytick_5\">\n     <g id=\"line2d_21\">\n      <path d=\"M 30.103125 66.439219 \nL 420.703125 66.439219 \n\" clip-path=\"url(#p070f09d201)\" style=\"fill: none; stroke: #b0b0b0; stroke-width: 0.8; stroke-linecap: square\"/>\n     </g>\n     <g id=\"line2d_22\">\n      <g>\n       <use xlink:href=\"#mc61d3f02d5\" x=\"30.103125\" y=\"66.439219\" style=\"stroke: #000000; stroke-width: 0.8\"/>\n      </g>\n     </g>\n     <g id=\"text_12\">\n      <!-- 0.8 -->\n      <g transform=\"translate(7.2 70.238437) scale(0.1 -0.1)\">\n       <use xlink:href=\"#DejaVuSans-30\"/>\n       <use xlink:href=\"#DejaVuSans-2e\" x=\"63.623047\"/>\n       <use xlink:href=\"#DejaVuSans-38\" x=\"95.410156\"/>\n      </g>\n     </g>\n    </g>\n    <g id=\"ytick_6\">\n     <g id=\"line2d_23\">\n      <path d=\"M 30.103125 10.999219 \nL 420.703125 10.999219 \n\" clip-path=\"url(#p070f09d201)\" style=\"fill: none; stroke: #b0b0b0; stroke-width: 0.8; stroke-linecap: square\"/>\n     </g>\n     <g id=\"line2d_24\">\n      <g>\n       <use xlink:href=\"#mc61d3f02d5\" x=\"30.103125\" y=\"10.999219\" style=\"stroke: #000000; stroke-width: 0.8\"/>\n      </g>\n     </g>\n     <g id=\"text_13\">\n      <!-- 1.0 -->\n      <g transform=\"translate(7.2 14.798438) scale(0.1 -0.1)\">\n       <use xlink:href=\"#DejaVuSans-31\"/>\n       <use xlink:href=\"#DejaVuSans-2e\" x=\"63.623047\"/>\n       <use xlink:href=\"#DejaVuSans-30\" x=\"95.410156\"/>\n      </g>\n     </g>\n    </g>\n   </g>\n   <g id=\"line2d_25\">\n    <path d=\"M 30.103125 264.557244 \nL 34.443125 266.917348 \nL 38.783125 268.263893 \nL 43.123125 269.570586 \nL 47.463125 270.782211 \nL 51.803125 271.823195 \nL 56.143125 272.623638 \nL 60.483125 272.898625 \nL 64.823125 269.710057 \nL 69.163125 271.085892 \nL 73.503125 271.842805 \nL 77.843125 271.846606 \nL 82.183125 272.02778 \nL 86.523125 271.973331 \nL 90.863125 271.917502 \nL 95.203125 271.516421 \nL 99.543125 271.217019 \nL 103.883125 273.586625 \nL 108.223125 273.545123 \nL 112.563125 272.681711 \nL 116.903125 272.967687 \nL 121.243125 272.720404 \nL 125.583125 272.709151 \nL 129.923125 272.888086 \nL 134.263125 273.434985 \nL 138.603125 273.803257 \nL 142.943125 274.052349 \nL 147.283125 274.059163 \nL 151.623125 275.376703 \nL 155.963125 274.615941 \nL 160.303125 275.224164 \nL 164.643125 275.087586 \nL 168.983125 274.837751 \nL 173.323125 274.377907 \nL 177.663125 274.261861 \nL 182.003125 271.661995 \nL 186.343125 271.477889 \nL 190.683125 270.977709 \nL 195.023125 271.965938 \nL 199.363125 271.743297 \nL 203.703125 271.330734 \nL 208.043125 271.424063 \nL 212.383125 271.943362 \nL 216.723125 271.937465 \nL 221.063125 271.999037 \nL 225.403125 272.182417 \nL 229.743125 272.203599 \nL 234.083125 271.795967 \nL 238.423125 271.435064 \nL 242.763125 272.121778 \nL 247.103125 271.529933 \nL 251.443125 270.984279 \nL 255.783125 271.451363 \nL 260.123125 273.139797 \nL 264.463125 272.733586 \nL 268.803125 272.360503 \nL 273.143125 272.924818 \nL 277.483125 273.407274 \nL 281.823125 272.822287 \n\" clip-path=\"url(#p070f09d201)\" style=\"fill: none; stroke: #1f77b4; stroke-width: 1.5; stroke-linecap: square\"/>\n   </g>\n   <g id=\"line2d_26\">\n    <path d=\"M 30.103125 126.081356 \nL 34.443125 81.559218 \nL 38.783125 76.768006 \nL 43.123125 68.782539 \nL 47.463125 61.353727 \nL 51.803125 56.550108 \nL 56.143125 54.385588 \nL 60.483125 53.844267 \nL 64.823125 53.091264 \nL 69.163125 43.414023 \nL 73.503125 44.045502 \nL 77.843125 43.105091 \nL 82.183125 43.645337 \nL 86.523125 45.800417 \nL 90.863125 46.533953 \nL 95.203125 48.241636 \nL 99.543125 50.698422 \nL 103.883125 48.277016 \nL 108.223125 48.39583 \nL 112.563125 52.342556 \nL 116.903125 51.73763 \nL 121.243125 54.017253 \nL 125.583125 54.219135 \nL 129.923125 54.1069 \nL 134.263125 51.392687 \nL 138.603125 48.26371 \nL 142.943125 48.299193 \nL 147.283125 48.643255 \nL 151.623125 42.931393 \nL 155.963125 46.086145 \nL 160.303125 42.100308 \nL 164.643125 43.079463 \nL 168.983125 44.124986 \nL 173.323125 45.996512 \nL 177.663125 46.625054 \nL 182.003125 51.089423 \nL 186.343125 51.31755 \nL 190.683125 53.85313 \nL 195.023125 49.081518 \nL 199.363125 50.531744 \nL 203.703125 52.389274 \nL 208.043125 51.930524 \nL 212.383125 50.079339 \nL 216.723125 51.240739 \nL 221.063125 50.837229 \nL 225.403125 50.601362 \nL 229.743125 49.955344 \nL 234.083125 52.45453 \nL 238.423125 53.770683 \nL 242.763125 50.724994 \nL 247.103125 52.059035 \nL 251.443125 54.756285 \nL 255.783125 51.592516 \nL 260.123125 49.578418 \nL 264.463125 52.449381 \nL 268.803125 55.00702 \nL 273.143125 52.674159 \nL 277.483125 50.432928 \nL 281.823125 51.440324 \n\" clip-path=\"url(#p070f09d201)\" style=\"fill: none; stroke-dasharray: 5.55,2.4; stroke-dashoffset: 0; stroke: #bf00bf; stroke-width: 1.5\"/>\n   </g>\n   <g id=\"line2d_27\">\n    <path d=\"M 30.103125 264.079746 \nL 69.163125 268.745695 \nL 108.223125 270.885107 \nL 147.283125 272.704437 \nL 186.343125 274.04028 \nL 225.403125 274.843178 \nL 264.463125 275.457216 \n\" clip-path=\"url(#p070f09d201)\" style=\"fill: none; stroke-dasharray: 9.6,2.4,1.5,2.4; stroke-dashoffset: 0; stroke: #008000; stroke-width: 1.5\"/>\n   </g>\n   <g id=\"line2d_28\">\n    <path d=\"M 30.103125 239.66881 \nL 69.163125 41.369915 \nL 108.223125 41.369915 \nL 147.283125 41.369915 \nL 186.343125 41.369915 \nL 225.403125 41.369915 \nL 264.463125 41.369915 \n\" clip-path=\"url(#p070f09d201)\" style=\"fill: none; stroke-dasharray: 1.5,2.475; stroke-dashoffset: 0; stroke: #ff0000; stroke-width: 1.5\"/>\n   </g>\n   <g id=\"patch_3\">\n    <path d=\"M 30.103125 288.199219 \nL 30.103125 10.999219 \n\" style=\"fill: none; stroke: #000000; stroke-width: 0.8; stroke-linejoin: miter; stroke-linecap: square\"/>\n   </g>\n   <g id=\"patch_4\">\n    <path d=\"M 420.703125 288.199219 \nL 420.703125 10.999219 \n\" style=\"fill: none; stroke: #000000; stroke-width: 0.8; stroke-linejoin: miter; stroke-linecap: square\"/>\n   </g>\n   <g id=\"patch_5\">\n    <path d=\"M 30.103125 288.199219 \nL 420.703125 288.199219 \n\" style=\"fill: none; stroke: #000000; stroke-width: 0.8; stroke-linejoin: miter; stroke-linecap: square\"/>\n   </g>\n   <g id=\"patch_6\">\n    <path d=\"M 30.103125 10.999219 \nL 420.703125 10.999219 \n\" style=\"fill: none; stroke: #000000; stroke-width: 0.8; stroke-linejoin: miter; stroke-linecap: square\"/>\n   </g>\n   <g id=\"legend_1\">\n    <g id=\"patch_7\">\n     <path d=\"M 335.934375 77.711719 \nL 413.703125 77.711719 \nQ 415.703125 77.711719 415.703125 75.711719 \nL 415.703125 17.999219 \nQ 415.703125 15.999219 413.703125 15.999219 \nL 335.934375 15.999219 \nQ 333.934375 15.999219 333.934375 17.999219 \nL 333.934375 75.711719 \nQ 333.934375 77.711719 335.934375 77.711719 \nz\n\" style=\"fill: #ffffff; opacity: 0.8; stroke: #cccccc; stroke-linejoin: miter\"/>\n    </g>\n    <g id=\"line2d_29\">\n     <path d=\"M 337.934375 24.097656 \nL 347.934375 24.097656 \nL 357.934375 24.097656 \n\" style=\"fill: none; stroke: #1f77b4; stroke-width: 1.5; stroke-linecap: square\"/>\n    </g>\n    <g id=\"text_14\">\n     <!-- train loss -->\n     <g transform=\"translate(365.934375 27.597656) scale(0.1 -0.1)\">\n      <defs>\n       <path id=\"DejaVuSans-74\" d=\"M 1172 4494 \nL 1172 3500 \nL 2356 3500 \nL 2356 3053 \nL 1172 3053 \nL 1172 1153 \nQ 1172 725 1289 603 \nQ 1406 481 1766 481 \nL 2356 481 \nL 2356 0 \nL 1766 0 \nQ 1100 0 847 248 \nQ 594 497 594 1153 \nL 594 3053 \nL 172 3053 \nL 172 3500 \nL 594 3500 \nL 594 4494 \nL 1172 4494 \nz\n\" transform=\"scale(0.015625)\"/>\n       <path id=\"DejaVuSans-72\" d=\"M 2631 2963 \nQ 2534 3019 2420 3045 \nQ 2306 3072 2169 3072 \nQ 1681 3072 1420 2755 \nQ 1159 2438 1159 1844 \nL 1159 0 \nL 581 0 \nL 581 3500 \nL 1159 3500 \nL 1159 2956 \nQ 1341 3275 1631 3429 \nQ 1922 3584 2338 3584 \nQ 2397 3584 2469 3576 \nQ 2541 3569 2628 3553 \nL 2631 2963 \nz\n\" transform=\"scale(0.015625)\"/>\n       <path id=\"DejaVuSans-61\" d=\"M 2194 1759 \nQ 1497 1759 1228 1600 \nQ 959 1441 959 1056 \nQ 959 750 1161 570 \nQ 1363 391 1709 391 \nQ 2188 391 2477 730 \nQ 2766 1069 2766 1631 \nL 2766 1759 \nL 2194 1759 \nz\nM 3341 1997 \nL 3341 0 \nL 2766 0 \nL 2766 531 \nQ 2569 213 2275 61 \nQ 1981 -91 1556 -91 \nQ 1019 -91 701 211 \nQ 384 513 384 1019 \nQ 384 1609 779 1909 \nQ 1175 2209 1959 2209 \nL 2766 2209 \nL 2766 2266 \nQ 2766 2663 2505 2880 \nQ 2244 3097 1772 3097 \nQ 1472 3097 1187 3025 \nQ 903 2953 641 2809 \nL 641 3341 \nQ 956 3463 1253 3523 \nQ 1550 3584 1831 3584 \nQ 2591 3584 2966 3190 \nQ 3341 2797 3341 1997 \nz\n\" transform=\"scale(0.015625)\"/>\n       <path id=\"DejaVuSans-69\" d=\"M 603 3500 \nL 1178 3500 \nL 1178 0 \nL 603 0 \nL 603 3500 \nz\nM 603 4863 \nL 1178 4863 \nL 1178 4134 \nL 603 4134 \nL 603 4863 \nz\n\" transform=\"scale(0.015625)\"/>\n       <path id=\"DejaVuSans-6e\" d=\"M 3513 2113 \nL 3513 0 \nL 2938 0 \nL 2938 2094 \nQ 2938 2591 2744 2837 \nQ 2550 3084 2163 3084 \nQ 1697 3084 1428 2787 \nQ 1159 2491 1159 1978 \nL 1159 0 \nL 581 0 \nL 581 3500 \nL 1159 3500 \nL 1159 2956 \nQ 1366 3272 1645 3428 \nQ 1925 3584 2291 3584 \nQ 2894 3584 3203 3211 \nQ 3513 2838 3513 2113 \nz\n\" transform=\"scale(0.015625)\"/>\n       <path id=\"DejaVuSans-20\" transform=\"scale(0.015625)\"/>\n       <path id=\"DejaVuSans-6c\" d=\"M 603 4863 \nL 1178 4863 \nL 1178 0 \nL 603 0 \nL 603 4863 \nz\n\" transform=\"scale(0.015625)\"/>\n       <path id=\"DejaVuSans-73\" d=\"M 2834 3397 \nL 2834 2853 \nQ 2591 2978 2328 3040 \nQ 2066 3103 1784 3103 \nQ 1356 3103 1142 2972 \nQ 928 2841 928 2578 \nQ 928 2378 1081 2264 \nQ 1234 2150 1697 2047 \nL 1894 2003 \nQ 2506 1872 2764 1633 \nQ 3022 1394 3022 966 \nQ 3022 478 2636 193 \nQ 2250 -91 1575 -91 \nQ 1294 -91 989 -36 \nQ 684 19 347 128 \nL 347 722 \nQ 666 556 975 473 \nQ 1284 391 1588 391 \nQ 1994 391 2212 530 \nQ 2431 669 2431 922 \nQ 2431 1156 2273 1281 \nQ 2116 1406 1581 1522 \nL 1381 1569 \nQ 847 1681 609 1914 \nQ 372 2147 372 2553 \nQ 372 3047 722 3315 \nQ 1072 3584 1716 3584 \nQ 2034 3584 2315 3537 \nQ 2597 3491 2834 3397 \nz\n\" transform=\"scale(0.015625)\"/>\n      </defs>\n      <use xlink:href=\"#DejaVuSans-74\"/>\n      <use xlink:href=\"#DejaVuSans-72\" x=\"39.208984\"/>\n      <use xlink:href=\"#DejaVuSans-61\" x=\"80.322266\"/>\n      <use xlink:href=\"#DejaVuSans-69\" x=\"141.601562\"/>\n      <use xlink:href=\"#DejaVuSans-6e\" x=\"169.384766\"/>\n      <use xlink:href=\"#DejaVuSans-20\" x=\"232.763672\"/>\n      <use xlink:href=\"#DejaVuSans-6c\" x=\"264.550781\"/>\n      <use xlink:href=\"#DejaVuSans-6f\" x=\"292.333984\"/>\n      <use xlink:href=\"#DejaVuSans-73\" x=\"353.515625\"/>\n      <use xlink:href=\"#DejaVuSans-73\" x=\"405.615234\"/>\n     </g>\n    </g>\n    <g id=\"line2d_30\">\n     <path d=\"M 337.934375 38.775781 \nL 347.934375 38.775781 \nL 357.934375 38.775781 \n\" style=\"fill: none; stroke-dasharray: 5.55,2.4; stroke-dashoffset: 0; stroke: #bf00bf; stroke-width: 1.5\"/>\n    </g>\n    <g id=\"text_15\">\n     <!-- train acc -->\n     <g transform=\"translate(365.934375 42.275781) scale(0.1 -0.1)\">\n      <use xlink:href=\"#DejaVuSans-74\"/>\n      <use xlink:href=\"#DejaVuSans-72\" x=\"39.208984\"/>\n      <use xlink:href=\"#DejaVuSans-61\" x=\"80.322266\"/>\n      <use xlink:href=\"#DejaVuSans-69\" x=\"141.601562\"/>\n      <use xlink:href=\"#DejaVuSans-6e\" x=\"169.384766\"/>\n      <use xlink:href=\"#DejaVuSans-20\" x=\"232.763672\"/>\n      <use xlink:href=\"#DejaVuSans-61\" x=\"264.550781\"/>\n      <use xlink:href=\"#DejaVuSans-63\" x=\"325.830078\"/>\n      <use xlink:href=\"#DejaVuSans-63\" x=\"380.810547\"/>\n     </g>\n    </g>\n    <g id=\"line2d_31\">\n     <path d=\"M 337.934375 53.453906 \nL 347.934375 53.453906 \nL 357.934375 53.453906 \n\" style=\"fill: none; stroke-dasharray: 9.6,2.4,1.5,2.4; stroke-dashoffset: 0; stroke: #008000; stroke-width: 1.5\"/>\n    </g>\n    <g id=\"text_16\">\n     <!-- val loss -->\n     <g transform=\"translate(365.934375 56.953906) scale(0.1 -0.1)\">\n      <defs>\n       <path id=\"DejaVuSans-76\" d=\"M 191 3500 \nL 800 3500 \nL 1894 563 \nL 2988 3500 \nL 3597 3500 \nL 2284 0 \nL 1503 0 \nL 191 3500 \nz\n\" transform=\"scale(0.015625)\"/>\n      </defs>\n      <use xlink:href=\"#DejaVuSans-76\"/>\n      <use xlink:href=\"#DejaVuSans-61\" x=\"59.179688\"/>\n      <use xlink:href=\"#DejaVuSans-6c\" x=\"120.458984\"/>\n      <use xlink:href=\"#DejaVuSans-20\" x=\"148.242188\"/>\n      <use xlink:href=\"#DejaVuSans-6c\" x=\"180.029297\"/>\n      <use xlink:href=\"#DejaVuSans-6f\" x=\"207.8125\"/>\n      <use xlink:href=\"#DejaVuSans-73\" x=\"268.994141\"/>\n      <use xlink:href=\"#DejaVuSans-73\" x=\"321.09375\"/>\n     </g>\n    </g>\n    <g id=\"line2d_32\">\n     <path d=\"M 337.934375 68.132031 \nL 347.934375 68.132031 \nL 357.934375 68.132031 \n\" style=\"fill: none; stroke-dasharray: 1.5,2.475; stroke-dashoffset: 0; stroke: #ff0000; stroke-width: 1.5\"/>\n    </g>\n    <g id=\"text_17\">\n     <!-- val acc -->\n     <g transform=\"translate(365.934375 71.632031) scale(0.1 -0.1)\">\n      <use xlink:href=\"#DejaVuSans-76\"/>\n      <use xlink:href=\"#DejaVuSans-61\" x=\"59.179688\"/>\n      <use xlink:href=\"#DejaVuSans-6c\" x=\"120.458984\"/>\n      <use xlink:href=\"#DejaVuSans-20\" x=\"148.242188\"/>\n      <use xlink:href=\"#DejaVuSans-61\" x=\"180.029297\"/>\n      <use xlink:href=\"#DejaVuSans-63\" x=\"241.308594\"/>\n      <use xlink:href=\"#DejaVuSans-63\" x=\"296.289062\"/>\n     </g>\n    </g>\n   </g>\n  </g>\n </g>\n <defs>\n  <clipPath id=\"p070f09d201\">\n   <rect x=\"30.103125\" y=\"10.999219\" width=\"390.6\" height=\"277.2\"/>\n  </clipPath>\n </defs>\n</svg>\n"
          },
          "metadata": {}
        }
      ]
    },
    {
      "cell_type": "code",
      "metadata": {
        "id": "xmvw7C19Lsci"
      },
      "source": [
        "batch = next(iterable_train_loader)\n",
        "\n",
        "pred = network(batch[1][0].to(device))\n",
        "\n",
        "# print(loss_function(pred, batch[1][1].to(device)))\n",
        "print('This is batch number '+ str(batch[0]))\n",
        "fig, axs = plt.subplots(batch_size, 3)\n",
        "fig.set_size_inches(15,5*batch_size)\n",
        "for i in range(batch_size):\n",
        "  axs[i,0].imshow(batch[1][0].permute(0,2,3,1)[i,:,:,:3])\n",
        "  axs[i,1].imshow(batch[1][1][i,0,:,:],cmap=plt.get_cmap('gray'),vmin=0,vmax=1)\n",
        "  axs[i,2].imshow(pred[i,:,:,:].max(0)[1].cpu(),cmap=plt.get_cmap('gray'))\n",
        "axs[0,0].set_title('Image')\n",
        "axs[0,1].set_title('GT')\n",
        "axs[0,2].set_title('Prediction')"
      ],
      "execution_count": null,
      "outputs": []
    },
    {
      "cell_type": "code",
      "source": [],
      "metadata": {
        "id": "Y8xklqGbTDNd"
      },
      "execution_count": null,
      "outputs": []
    }
  ]
}